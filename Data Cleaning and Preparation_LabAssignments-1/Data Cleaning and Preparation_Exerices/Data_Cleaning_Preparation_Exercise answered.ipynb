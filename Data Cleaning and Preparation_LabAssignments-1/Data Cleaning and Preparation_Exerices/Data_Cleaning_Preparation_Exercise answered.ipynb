{
 "cells": [
  {
   "cell_type": "markdown",
   "metadata": {},
   "source": [
    "**Data cleaning and prepartion Exercise**"
   ]
  },
  {
   "cell_type": "markdown",
   "metadata": {},
   "source": [
    "**Exercise 1: Inspecting your dataframe worth 35 points**"
   ]
  },
  {
   "cell_type": "code",
   "execution_count": 5,
   "metadata": {},
   "outputs": [],
   "source": [
    "#let us hide warnings from displaying in jupyter notebook (worth 5 points)\n",
    "import warnings\n",
    "warnings.filterwarnings('ignore') \n",
    "    "
   ]
  },
  {
   "cell_type": "code",
   "execution_count": 7,
   "metadata": {},
   "outputs": [
    {
     "data": {
      "text/html": [
       "<div>\n",
       "<style scoped>\n",
       "    .dataframe tbody tr th:only-of-type {\n",
       "        vertical-align: middle;\n",
       "    }\n",
       "\n",
       "    .dataframe tbody tr th {\n",
       "        vertical-align: top;\n",
       "    }\n",
       "\n",
       "    .dataframe thead th {\n",
       "        text-align: right;\n",
       "    }\n",
       "</style>\n",
       "<table border=\"1\" class=\"dataframe\">\n",
       "  <thead>\n",
       "    <tr style=\"text-align: right;\">\n",
       "      <th></th>\n",
       "      <th>country</th>\n",
       "      <th>year</th>\n",
       "      <th>pop</th>\n",
       "      <th>continent</th>\n",
       "      <th>lifeExp</th>\n",
       "      <th>gdpPercap</th>\n",
       "    </tr>\n",
       "  </thead>\n",
       "  <tbody>\n",
       "    <tr>\n",
       "      <th>0</th>\n",
       "      <td>Afghanistan</td>\n",
       "      <td>1952</td>\n",
       "      <td>8425333.0</td>\n",
       "      <td>Asia</td>\n",
       "      <td>28.801</td>\n",
       "      <td>779.445314</td>\n",
       "    </tr>\n",
       "    <tr>\n",
       "      <th>1</th>\n",
       "      <td>Afghanistan</td>\n",
       "      <td>1957</td>\n",
       "      <td>9240934.0</td>\n",
       "      <td>Asia</td>\n",
       "      <td>30.332</td>\n",
       "      <td>820.853030</td>\n",
       "    </tr>\n",
       "    <tr>\n",
       "      <th>2</th>\n",
       "      <td>Afghanistan</td>\n",
       "      <td>1962</td>\n",
       "      <td>10267083.0</td>\n",
       "      <td>Asia</td>\n",
       "      <td>31.997</td>\n",
       "      <td>853.100710</td>\n",
       "    </tr>\n",
       "    <tr>\n",
       "      <th>3</th>\n",
       "      <td>Afghanistan</td>\n",
       "      <td>1967</td>\n",
       "      <td>11537966.0</td>\n",
       "      <td>Asia</td>\n",
       "      <td>34.020</td>\n",
       "      <td>836.197138</td>\n",
       "    </tr>\n",
       "    <tr>\n",
       "      <th>4</th>\n",
       "      <td>Afghanistan</td>\n",
       "      <td>1972</td>\n",
       "      <td>13079460.0</td>\n",
       "      <td>Asia</td>\n",
       "      <td>36.088</td>\n",
       "      <td>739.981106</td>\n",
       "    </tr>\n",
       "  </tbody>\n",
       "</table>\n",
       "</div>"
      ],
      "text/plain": [
       "       country  year         pop continent  lifeExp   gdpPercap\n",
       "0  Afghanistan  1952   8425333.0      Asia   28.801  779.445314\n",
       "1  Afghanistan  1957   9240934.0      Asia   30.332  820.853030\n",
       "2  Afghanistan  1962  10267083.0      Asia   31.997  853.100710\n",
       "3  Afghanistan  1967  11537966.0      Asia   34.020  836.197138\n",
       "4  Afghanistan  1972  13079460.0      Asia   36.088  739.981106"
      ]
     },
     "execution_count": 7,
     "metadata": {},
     "output_type": "execute_result"
    }
   ],
   "source": [
    "#following steps worth 10 points\n",
    "# Import pandas\n",
    "import pandas as pd\n",
    "\n",
    "\n",
    "#Load your dataset data/gapminder-FiveYearData.csv into a dataframe\n",
    "# Read the file into a DataFrame: df\n",
    "df = pd.read_csv('data/gapminder-FiveYearData.csv')\n",
    "\n",
    "\n",
    "#Visually inspect our dataframe using head method\n",
    "df.head()\n"
   ]
  },
  {
   "cell_type": "code",
   "execution_count": 9,
   "metadata": {},
   "outputs": [
    {
     "data": {
      "text/html": [
       "<div>\n",
       "<style scoped>\n",
       "    .dataframe tbody tr th:only-of-type {\n",
       "        vertical-align: middle;\n",
       "    }\n",
       "\n",
       "    .dataframe tbody tr th {\n",
       "        vertical-align: top;\n",
       "    }\n",
       "\n",
       "    .dataframe thead th {\n",
       "        text-align: right;\n",
       "    }\n",
       "</style>\n",
       "<table border=\"1\" class=\"dataframe\">\n",
       "  <thead>\n",
       "    <tr style=\"text-align: right;\">\n",
       "      <th></th>\n",
       "      <th>country</th>\n",
       "      <th>year</th>\n",
       "      <th>pop</th>\n",
       "      <th>continent</th>\n",
       "      <th>lifeExp</th>\n",
       "      <th>gdpPercap</th>\n",
       "    </tr>\n",
       "  </thead>\n",
       "  <tbody>\n",
       "    <tr>\n",
       "      <th>1699</th>\n",
       "      <td>Zimbabwe</td>\n",
       "      <td>1987</td>\n",
       "      <td>9216418.0</td>\n",
       "      <td>Africa</td>\n",
       "      <td>62.351</td>\n",
       "      <td>706.157306</td>\n",
       "    </tr>\n",
       "    <tr>\n",
       "      <th>1700</th>\n",
       "      <td>Zimbabwe</td>\n",
       "      <td>1992</td>\n",
       "      <td>10704340.0</td>\n",
       "      <td>Africa</td>\n",
       "      <td>60.377</td>\n",
       "      <td>693.420786</td>\n",
       "    </tr>\n",
       "    <tr>\n",
       "      <th>1701</th>\n",
       "      <td>Zimbabwe</td>\n",
       "      <td>1997</td>\n",
       "      <td>11404948.0</td>\n",
       "      <td>Africa</td>\n",
       "      <td>46.809</td>\n",
       "      <td>792.449960</td>\n",
       "    </tr>\n",
       "    <tr>\n",
       "      <th>1702</th>\n",
       "      <td>Zimbabwe</td>\n",
       "      <td>2002</td>\n",
       "      <td>11926563.0</td>\n",
       "      <td>Africa</td>\n",
       "      <td>39.989</td>\n",
       "      <td>672.038623</td>\n",
       "    </tr>\n",
       "    <tr>\n",
       "      <th>1703</th>\n",
       "      <td>Zimbabwe</td>\n",
       "      <td>2007</td>\n",
       "      <td>12311143.0</td>\n",
       "      <td>Africa</td>\n",
       "      <td>43.487</td>\n",
       "      <td>469.709298</td>\n",
       "    </tr>\n",
       "  </tbody>\n",
       "</table>\n",
       "</div>"
      ],
      "text/plain": [
       "       country  year         pop continent  lifeExp   gdpPercap\n",
       "1699  Zimbabwe  1987   9216418.0    Africa   62.351  706.157306\n",
       "1700  Zimbabwe  1992  10704340.0    Africa   60.377  693.420786\n",
       "1701  Zimbabwe  1997  11404948.0    Africa   46.809  792.449960\n",
       "1702  Zimbabwe  2002  11926563.0    Africa   39.989  672.038623\n",
       "1703  Zimbabwe  2007  12311143.0    Africa   43.487  469.709298"
      ]
     },
     "execution_count": 9,
     "metadata": {},
     "output_type": "execute_result"
    }
   ],
   "source": [
    "#following instruction worth 5 points\n",
    "#Visually inspect our dataframe using tail method\n",
    "df.tail()\n"
   ]
  },
  {
   "cell_type": "code",
   "execution_count": 11,
   "metadata": {},
   "outputs": [
    {
     "name": "stdout",
     "output_type": "stream",
     "text": [
      "'country'\n",
      "'year'\n",
      "'pop'\n",
      "'continent'\n",
      "'lifeExp'\n",
      "'gdpPercap'\n"
     ]
    }
   ],
   "source": [
    "#following instruction worth 5 points\n",
    "#IF you have many columns in our dataframe\n",
    "#We might find an extra space at the end or begining of the column name\n",
    "#or bad characters  \n",
    "# iterating through the columns and display column names\n",
    "for column in df.columns:\n",
    "    print(f\"'{column}'\")\n",
    "\n"
   ]
  },
  {
   "cell_type": "code",
   "execution_count": 13,
   "metadata": {},
   "outputs": [
    {
     "name": "stdout",
     "output_type": "stream",
     "text": [
      "Number of rows: 1704\n",
      "Number of columns: 6\n"
     ]
    }
   ],
   "source": [
    "#display the number of rows and columns(worth 5 points)\n",
    "rows, columns = df.shape\n",
    "print(f\"Number of rows: {rows}\")\n",
    "print(f\"Number of columns: {columns}\")\n"
   ]
  },
  {
   "cell_type": "code",
   "execution_count": 15,
   "metadata": {},
   "outputs": [
    {
     "name": "stdout",
     "output_type": "stream",
     "text": [
      "<class 'pandas.core.frame.DataFrame'>\n",
      "RangeIndex: 1704 entries, 0 to 1703\n",
      "Data columns (total 6 columns):\n",
      " #   Column     Non-Null Count  Dtype  \n",
      "---  ------     --------------  -----  \n",
      " 0   country    1704 non-null   object \n",
      " 1   year       1704 non-null   int64  \n",
      " 2   pop        1704 non-null   float64\n",
      " 3   continent  1704 non-null   object \n",
      " 4   lifeExp    1704 non-null   float64\n",
      " 5   gdpPercap  1704 non-null   float64\n",
      "dtypes: float64(3), int64(1), object(2)\n",
      "memory usage: 80.0+ KB\n"
     ]
    }
   ],
   "source": [
    "#following instruction worth 5 points \n",
    "#We can use the a method to get additional information about our dataframe\n",
    "#Inlcuding datatype of the different columns\n",
    "#You can see how many missing values exist in each column\n",
    "df.info()\n",
    "\n"
   ]
  },
  {
   "cell_type": "markdown",
   "metadata": {},
   "source": [
    "**Exercise 2: Changing column datatype (worth 15 points)**"
   ]
  },
  {
   "cell_type": "code",
   "execution_count": 17,
   "metadata": {},
   "outputs": [
    {
     "name": "stdout",
     "output_type": "stream",
     "text": [
      "country       object\n",
      "year           int64\n",
      "pop          float64\n",
      "continent     object\n",
      "lifeExp      float64\n",
      "gdpPercap    float64\n",
      "dtype: object\n"
     ]
    }
   ],
   "source": [
    "##print a list of all column names and their data types of your dataframe df (worth 5 points)\n",
    "print(df.dtypes)\n"
   ]
  },
  {
   "cell_type": "code",
   "execution_count": 19,
   "metadata": {},
   "outputs": [
    {
     "name": "stdout",
     "output_type": "stream",
     "text": [
      "country      category\n",
      "year            int64\n",
      "pop           float64\n",
      "continent      object\n",
      "lifeExp       float64\n",
      "gdpPercap     float64\n",
      "dtype: object\n"
     ]
    }
   ],
   "source": [
    "#change the datatype of country to category (worth 5 points)\n",
    "df['country'] = df['country'].astype('category')\n",
    "\n",
    "\n",
    "#print the data types of each column after the change (worth 5 points)\n",
    "print(df.dtypes)\n",
    "\n"
   ]
  },
  {
   "cell_type": "markdown",
   "metadata": {},
   "source": [
    "**Exercise 3 Pivoting (worth 30 points)**"
   ]
  },
  {
   "cell_type": "code",
   "execution_count": 21,
   "metadata": {},
   "outputs": [
    {
     "data": {
      "text/html": [
       "<div>\n",
       "<style scoped>\n",
       "    .dataframe tbody tr th:only-of-type {\n",
       "        vertical-align: middle;\n",
       "    }\n",
       "\n",
       "    .dataframe tbody tr th {\n",
       "        vertical-align: top;\n",
       "    }\n",
       "\n",
       "    .dataframe thead th {\n",
       "        text-align: right;\n",
       "    }\n",
       "</style>\n",
       "<table border=\"1\" class=\"dataframe\">\n",
       "  <thead>\n",
       "    <tr style=\"text-align: right;\">\n",
       "      <th></th>\n",
       "      <th>country</th>\n",
       "      <th>year</th>\n",
       "      <th>pop</th>\n",
       "      <th>continent</th>\n",
       "      <th>lifeExp</th>\n",
       "      <th>gdpPercap</th>\n",
       "    </tr>\n",
       "  </thead>\n",
       "  <tbody>\n",
       "    <tr>\n",
       "      <th>0</th>\n",
       "      <td>Afghanistan</td>\n",
       "      <td>1952</td>\n",
       "      <td>8425333.0</td>\n",
       "      <td>Asia</td>\n",
       "      <td>28.801</td>\n",
       "      <td>779.445314</td>\n",
       "    </tr>\n",
       "    <tr>\n",
       "      <th>1</th>\n",
       "      <td>Afghanistan</td>\n",
       "      <td>1957</td>\n",
       "      <td>9240934.0</td>\n",
       "      <td>Asia</td>\n",
       "      <td>30.332</td>\n",
       "      <td>820.853030</td>\n",
       "    </tr>\n",
       "    <tr>\n",
       "      <th>2</th>\n",
       "      <td>Afghanistan</td>\n",
       "      <td>1962</td>\n",
       "      <td>10267083.0</td>\n",
       "      <td>Asia</td>\n",
       "      <td>31.997</td>\n",
       "      <td>853.100710</td>\n",
       "    </tr>\n",
       "    <tr>\n",
       "      <th>3</th>\n",
       "      <td>Afghanistan</td>\n",
       "      <td>1967</td>\n",
       "      <td>11537966.0</td>\n",
       "      <td>Asia</td>\n",
       "      <td>34.020</td>\n",
       "      <td>836.197138</td>\n",
       "    </tr>\n",
       "    <tr>\n",
       "      <th>4</th>\n",
       "      <td>Afghanistan</td>\n",
       "      <td>1972</td>\n",
       "      <td>13079460.0</td>\n",
       "      <td>Asia</td>\n",
       "      <td>36.088</td>\n",
       "      <td>739.981106</td>\n",
       "    </tr>\n",
       "  </tbody>\n",
       "</table>\n",
       "</div>"
      ],
      "text/plain": [
       "       country  year         pop continent  lifeExp   gdpPercap\n",
       "0  Afghanistan  1952   8425333.0      Asia   28.801  779.445314\n",
       "1  Afghanistan  1957   9240934.0      Asia   30.332  820.853030\n",
       "2  Afghanistan  1962  10267083.0      Asia   31.997  853.100710\n",
       "3  Afghanistan  1967  11537966.0      Asia   34.020  836.197138\n",
       "4  Afghanistan  1972  13079460.0      Asia   36.088  739.981106"
      ]
     },
     "execution_count": 21,
     "metadata": {},
     "output_type": "execute_result"
    }
   ],
   "source": [
    "#The following steps (worth 1o points)\n",
    "#import the required libraries\n",
    "import pandas as pd\n",
    "\n",
    "\n",
    "#load the data set  data/gapminder-FiveYearData.csv into a dataframe named gapminder\n",
    "gapminder = pd.read_csv('data/gapminder-FiveYearData.csv')\n",
    "\n",
    "#display the head of the data fram\n",
    "gapminder.head()\n"
   ]
  },
  {
   "cell_type": "code",
   "execution_count": 23,
   "metadata": {},
   "outputs": [
    {
     "data": {
      "text/html": [
       "<div>\n",
       "<style scoped>\n",
       "    .dataframe tbody tr th:only-of-type {\n",
       "        vertical-align: middle;\n",
       "    }\n",
       "\n",
       "    .dataframe tbody tr th {\n",
       "        vertical-align: top;\n",
       "    }\n",
       "\n",
       "    .dataframe thead th {\n",
       "        text-align: right;\n",
       "    }\n",
       "</style>\n",
       "<table border=\"1\" class=\"dataframe\">\n",
       "  <thead>\n",
       "    <tr style=\"text-align: right;\">\n",
       "      <th></th>\n",
       "      <th>continent</th>\n",
       "      <th>lifeExp</th>\n",
       "    </tr>\n",
       "  </thead>\n",
       "  <tbody>\n",
       "    <tr>\n",
       "      <th>0</th>\n",
       "      <td>Asia</td>\n",
       "      <td>28.801</td>\n",
       "    </tr>\n",
       "    <tr>\n",
       "      <th>1</th>\n",
       "      <td>Asia</td>\n",
       "      <td>30.332</td>\n",
       "    </tr>\n",
       "    <tr>\n",
       "      <th>2</th>\n",
       "      <td>Asia</td>\n",
       "      <td>31.997</td>\n",
       "    </tr>\n",
       "    <tr>\n",
       "      <th>3</th>\n",
       "      <td>Asia</td>\n",
       "      <td>34.020</td>\n",
       "    </tr>\n",
       "    <tr>\n",
       "      <th>4</th>\n",
       "      <td>Asia</td>\n",
       "      <td>36.088</td>\n",
       "    </tr>\n",
       "  </tbody>\n",
       "</table>\n",
       "</div>"
      ],
      "text/plain": [
       "  continent  lifeExp\n",
       "0      Asia   28.801\n",
       "1      Asia   30.332\n",
       "2      Asia   31.997\n",
       "3      Asia   34.020\n",
       "4      Asia   36.088"
      ]
     },
     "execution_count": 23,
     "metadata": {},
     "output_type": "execute_result"
    }
   ],
   "source": [
    "# select two columns continent and lifeExp from gapminder dataframe and assign it to new dataframe df (worth 10 points)\n",
    "df = gapminder[['continent', 'lifeExp']]\n",
    "df.head()\n"
   ]
  },
  {
   "cell_type": "markdown",
   "metadata": {},
   "source": [
    "- As a simple example, we can use Pandas pivot_table to convert the tall table to a wide table, computing the mean lifeExp across continents. \n",
    "- To do that, we will use pd.pivot_table with the data frame as one of the arguments and specify which variable we would like use for columns and which variable we would like to summarize. \n",
    "- One of the arguments of pivot_table, agg_func has mean as default."
   ]
  },
  {
   "cell_type": "code",
   "execution_count": null,
   "metadata": {},
   "outputs": [],
   "source": [
    "# simple example with pivot_table \n",
    "#write one line of code to display the following pivot table (worth 10 points)"
   ]
  },
  {
   "cell_type": "markdown",
   "metadata": {},
   "source": [
    "![title](data/pivot_table1_example_Pandas.jpg)"
   ]
  },
  {
   "cell_type": "code",
   "execution_count": 35,
   "metadata": {},
   "outputs": [
    {
     "data": {
      "text/html": [
       "<div>\n",
       "<style scoped>\n",
       "    .dataframe tbody tr th:only-of-type {\n",
       "        vertical-align: middle;\n",
       "    }\n",
       "\n",
       "    .dataframe tbody tr th {\n",
       "        vertical-align: top;\n",
       "    }\n",
       "\n",
       "    .dataframe thead th {\n",
       "        text-align: right;\n",
       "    }\n",
       "</style>\n",
       "<table border=\"1\" class=\"dataframe\">\n",
       "  <thead>\n",
       "    <tr style=\"text-align: right;\">\n",
       "      <th>continent</th>\n",
       "      <th>Africa</th>\n",
       "      <th>Americas</th>\n",
       "      <th>Asia</th>\n",
       "      <th>Europe</th>\n",
       "      <th>Oceania</th>\n",
       "    </tr>\n",
       "  </thead>\n",
       "  <tbody>\n",
       "    <tr>\n",
       "      <th>lifeExp</th>\n",
       "      <td>48.86533</td>\n",
       "      <td>64.658737</td>\n",
       "      <td>60.064903</td>\n",
       "      <td>71.903686</td>\n",
       "      <td>74.326208</td>\n",
       "    </tr>\n",
       "  </tbody>\n",
       "</table>\n",
       "</div>"
      ],
      "text/plain": [
       "continent    Africa   Americas       Asia     Europe    Oceania\n",
       "lifeExp    48.86533  64.658737  60.064903  71.903686  74.326208"
      ]
     },
     "execution_count": 35,
     "metadata": {},
     "output_type": "execute_result"
    }
   ],
   "source": [
    "#type your line of code here\n",
    "pivot_table = pd.pivot_table(df, values='lifeExp', columns='continent', aggfunc='mean')\n",
    "pivot_table\n"
   ]
  },
  {
   "cell_type": "markdown",
   "metadata": {},
   "source": [
    "**Exercise 4: Pivoting (worth 20 points)**"
   ]
  },
  {
   "cell_type": "markdown",
   "metadata": {},
   "source": [
    "- Let us see another simple example of pivot_table. \n",
    "- In the above example we used pivot_table to compute mean lifeExp for each continent. \n",
    "- We can compute **mean lifeExp for each country.**"
   ]
  },
  {
   "cell_type": "code",
   "execution_count": 38,
   "metadata": {},
   "outputs": [
    {
     "data": {
      "text/html": [
       "<div>\n",
       "<style scoped>\n",
       "    .dataframe tbody tr th:only-of-type {\n",
       "        vertical-align: middle;\n",
       "    }\n",
       "\n",
       "    .dataframe tbody tr th {\n",
       "        vertical-align: top;\n",
       "    }\n",
       "\n",
       "    .dataframe thead th {\n",
       "        text-align: right;\n",
       "    }\n",
       "</style>\n",
       "<table border=\"1\" class=\"dataframe\">\n",
       "  <thead>\n",
       "    <tr style=\"text-align: right;\">\n",
       "      <th></th>\n",
       "      <th>lifeExp</th>\n",
       "    </tr>\n",
       "    <tr>\n",
       "      <th>country</th>\n",
       "      <th></th>\n",
       "    </tr>\n",
       "  </thead>\n",
       "  <tbody>\n",
       "    <tr>\n",
       "      <th>Afghanistan</th>\n",
       "      <td>37.478833</td>\n",
       "    </tr>\n",
       "    <tr>\n",
       "      <th>Albania</th>\n",
       "      <td>68.432917</td>\n",
       "    </tr>\n",
       "    <tr>\n",
       "      <th>Algeria</th>\n",
       "      <td>59.030167</td>\n",
       "    </tr>\n",
       "    <tr>\n",
       "      <th>Angola</th>\n",
       "      <td>37.883500</td>\n",
       "    </tr>\n",
       "    <tr>\n",
       "      <th>Argentina</th>\n",
       "      <td>69.060417</td>\n",
       "    </tr>\n",
       "    <tr>\n",
       "      <th>...</th>\n",
       "      <td>...</td>\n",
       "    </tr>\n",
       "    <tr>\n",
       "      <th>Vietnam</th>\n",
       "      <td>57.479500</td>\n",
       "    </tr>\n",
       "    <tr>\n",
       "      <th>West Bank and Gaza</th>\n",
       "      <td>60.328667</td>\n",
       "    </tr>\n",
       "    <tr>\n",
       "      <th>Yemen Rep.</th>\n",
       "      <td>46.780417</td>\n",
       "    </tr>\n",
       "    <tr>\n",
       "      <th>Zambia</th>\n",
       "      <td>45.996333</td>\n",
       "    </tr>\n",
       "    <tr>\n",
       "      <th>Zimbabwe</th>\n",
       "      <td>52.663167</td>\n",
       "    </tr>\n",
       "  </tbody>\n",
       "</table>\n",
       "<p>142 rows × 1 columns</p>\n",
       "</div>"
      ],
      "text/plain": [
       "                      lifeExp\n",
       "country                      \n",
       "Afghanistan         37.478833\n",
       "Albania             68.432917\n",
       "Algeria             59.030167\n",
       "Angola              37.883500\n",
       "Argentina           69.060417\n",
       "...                       ...\n",
       "Vietnam             57.479500\n",
       "West Bank and Gaza  60.328667\n",
       "Yemen Rep.          46.780417\n",
       "Zambia              45.996333\n",
       "Zimbabwe            52.663167\n",
       "\n",
       "[142 rows x 1 columns]"
      ]
     },
     "execution_count": 38,
     "metadata": {},
     "output_type": "execute_result"
    }
   ],
   "source": [
    "#create a data frame df that includes only required columns as mentioned in the exercise 4 (worth 10 points)\n",
    "df = gapminder[['country', 'lifeExp']]\n",
    "\n",
    "\n",
    "#call the pivot_table method that will provide you with mean lifeExp for each country (worth 10 points)\n",
    "pivot_table_countries = pd.pivot_table(df, values='lifeExp', index='country', aggfunc='mean')\n",
    "pivot_table_countries\n",
    "\n"
   ]
  },
  {
   "cell_type": "markdown",
   "metadata": {},
   "source": [
    "**Exercise 5:Pivoting (worth 25 points)**"
   ]
  },
  {
   "cell_type": "markdown",
   "metadata": {},
   "source": [
    "- As mentioned before, pivot_table uses mean function for aggregating or summarizing data by default.  \n",
    "- We can change the aggregating function,  if needed. \n",
    "- For example, we can use aggfunc=’min’ to compute “minimum” lifeExp instead of “mean” lifeExp for each year and continent values.\n",
    "- The output should look something similar to the figure below\n",
    "![title](data/pivottable2.png)\n",
    "\n"
   ]
  },
  {
   "cell_type": "code",
   "execution_count": 44,
   "metadata": {},
   "outputs": [],
   "source": [
    "# create a dataframe name it df1 that will include only the required columns for exercise 5 (worth 10 points)\n",
    "df1 = gapminder[['year', 'continent', 'lifeExp']]\n",
    "\n"
   ]
  },
  {
   "cell_type": "code",
   "execution_count": 46,
   "metadata": {},
   "outputs": [
    {
     "data": {
      "text/html": [
       "<div>\n",
       "<style scoped>\n",
       "    .dataframe tbody tr th:only-of-type {\n",
       "        vertical-align: middle;\n",
       "    }\n",
       "\n",
       "    .dataframe tbody tr th {\n",
       "        vertical-align: top;\n",
       "    }\n",
       "\n",
       "    .dataframe thead th {\n",
       "        text-align: right;\n",
       "    }\n",
       "</style>\n",
       "<table border=\"1\" class=\"dataframe\">\n",
       "  <thead>\n",
       "    <tr style=\"text-align: right;\">\n",
       "      <th>continent</th>\n",
       "      <th>Africa</th>\n",
       "      <th>Americas</th>\n",
       "      <th>Asia</th>\n",
       "      <th>Europe</th>\n",
       "      <th>Oceania</th>\n",
       "    </tr>\n",
       "    <tr>\n",
       "      <th>year</th>\n",
       "      <th></th>\n",
       "      <th></th>\n",
       "      <th></th>\n",
       "      <th></th>\n",
       "      <th></th>\n",
       "    </tr>\n",
       "  </thead>\n",
       "  <tbody>\n",
       "    <tr>\n",
       "      <th>1952</th>\n",
       "      <td>30.000</td>\n",
       "      <td>37.579</td>\n",
       "      <td>28.801</td>\n",
       "      <td>43.585</td>\n",
       "      <td>69.120</td>\n",
       "    </tr>\n",
       "    <tr>\n",
       "      <th>1957</th>\n",
       "      <td>31.570</td>\n",
       "      <td>40.696</td>\n",
       "      <td>30.332</td>\n",
       "      <td>48.079</td>\n",
       "      <td>70.260</td>\n",
       "    </tr>\n",
       "    <tr>\n",
       "      <th>1962</th>\n",
       "      <td>32.767</td>\n",
       "      <td>43.428</td>\n",
       "      <td>31.997</td>\n",
       "      <td>52.098</td>\n",
       "      <td>70.930</td>\n",
       "    </tr>\n",
       "    <tr>\n",
       "      <th>1967</th>\n",
       "      <td>34.113</td>\n",
       "      <td>45.032</td>\n",
       "      <td>34.020</td>\n",
       "      <td>54.336</td>\n",
       "      <td>71.100</td>\n",
       "    </tr>\n",
       "    <tr>\n",
       "      <th>1972</th>\n",
       "      <td>35.400</td>\n",
       "      <td>46.714</td>\n",
       "      <td>36.088</td>\n",
       "      <td>57.005</td>\n",
       "      <td>71.890</td>\n",
       "    </tr>\n",
       "    <tr>\n",
       "      <th>1977</th>\n",
       "      <td>36.788</td>\n",
       "      <td>49.923</td>\n",
       "      <td>31.220</td>\n",
       "      <td>59.507</td>\n",
       "      <td>72.220</td>\n",
       "    </tr>\n",
       "    <tr>\n",
       "      <th>1982</th>\n",
       "      <td>38.445</td>\n",
       "      <td>51.461</td>\n",
       "      <td>39.854</td>\n",
       "      <td>61.036</td>\n",
       "      <td>73.840</td>\n",
       "    </tr>\n",
       "    <tr>\n",
       "      <th>1987</th>\n",
       "      <td>39.906</td>\n",
       "      <td>53.636</td>\n",
       "      <td>40.822</td>\n",
       "      <td>63.108</td>\n",
       "      <td>74.320</td>\n",
       "    </tr>\n",
       "    <tr>\n",
       "      <th>1992</th>\n",
       "      <td>23.599</td>\n",
       "      <td>55.089</td>\n",
       "      <td>41.674</td>\n",
       "      <td>66.146</td>\n",
       "      <td>76.330</td>\n",
       "    </tr>\n",
       "    <tr>\n",
       "      <th>1997</th>\n",
       "      <td>36.087</td>\n",
       "      <td>56.671</td>\n",
       "      <td>41.763</td>\n",
       "      <td>68.835</td>\n",
       "      <td>77.550</td>\n",
       "    </tr>\n",
       "    <tr>\n",
       "      <th>2002</th>\n",
       "      <td>39.193</td>\n",
       "      <td>58.137</td>\n",
       "      <td>42.129</td>\n",
       "      <td>70.845</td>\n",
       "      <td>79.110</td>\n",
       "    </tr>\n",
       "    <tr>\n",
       "      <th>2007</th>\n",
       "      <td>39.613</td>\n",
       "      <td>60.916</td>\n",
       "      <td>43.828</td>\n",
       "      <td>71.777</td>\n",
       "      <td>80.204</td>\n",
       "    </tr>\n",
       "  </tbody>\n",
       "</table>\n",
       "</div>"
      ],
      "text/plain": [
       "continent  Africa  Americas    Asia  Europe  Oceania\n",
       "year                                                \n",
       "1952       30.000    37.579  28.801  43.585   69.120\n",
       "1957       31.570    40.696  30.332  48.079   70.260\n",
       "1962       32.767    43.428  31.997  52.098   70.930\n",
       "1967       34.113    45.032  34.020  54.336   71.100\n",
       "1972       35.400    46.714  36.088  57.005   71.890\n",
       "1977       36.788    49.923  31.220  59.507   72.220\n",
       "1982       38.445    51.461  39.854  61.036   73.840\n",
       "1987       39.906    53.636  40.822  63.108   74.320\n",
       "1992       23.599    55.089  41.674  66.146   76.330\n",
       "1997       36.087    56.671  41.763  68.835   77.550\n",
       "2002       39.193    58.137  42.129  70.845   79.110\n",
       "2007       39.613    60.916  43.828  71.777   80.204"
      ]
     },
     "execution_count": 46,
     "metadata": {},
     "output_type": "execute_result"
    }
   ],
   "source": [
    "#call the pivot_table and specify the values for the different arguments to produce the output required in exercise 5\n",
    "#(worth 15 points)\n",
    "pivot_table_min_lifeExp = pd.pivot_table(df1, values='lifeExp', index='year', columns='continent', aggfunc='min')\n",
    "pivot_table_min_lifeExp\n"
   ]
  },
  {
   "cell_type": "markdown",
   "metadata": {},
   "source": [
    "**Exercise 6: Filling missing data (worth 20 points)**\n"
   ]
  },
  {
   "cell_type": "code",
   "execution_count": 52,
   "metadata": {},
   "outputs": [
    {
     "name": "stdout",
     "output_type": "stream",
     "text": [
      "     A    B   C  D\n",
      "0  NaN  2.0 NaN  0\n",
      "1  3.0  4.0 NaN  1\n",
      "2  NaN  NaN NaN  5\n",
      "3  NaN  3.0 NaN  4\n"
     ]
    }
   ],
   "source": [
    "#consider the following data frame\n",
    "\n",
    "import numpy as np\n",
    "import pandas as pd\n",
    "\n",
    "# Create the DataFrame with missing values\n",
    "df = pd.DataFrame([[np.nan, 2, np.nan, 0],\n",
    "                   [3, 4, np.nan, 1],\n",
    "                   [np.nan, np.nan, np.nan, 5],\n",
    "                   [np.nan, 3, np.nan, 4]],\n",
    "                  columns=list('ABCD'))\n",
    "\n",
    "# Print the DataFrame\n",
    "print(df)\n"
   ]
  },
  {
   "cell_type": "code",
   "execution_count": 54,
   "metadata": {},
   "outputs": [
    {
     "name": "stdout",
     "output_type": "stream",
     "text": [
      "     A    B    C  D\n",
      "0  0.0  2.0  0.0  0\n",
      "1  3.0  4.0  0.0  1\n",
      "2  0.0  0.0  0.0  5\n",
      "3  0.0  3.0  0.0  4\n"
     ]
    }
   ],
   "source": [
    "# Replace all NaN elements with 0s. (worth 5 points)\n",
    "df_filled = df.fillna(0)\n",
    "\n",
    "print(df_filled)\n",
    "\n",
    "\n"
   ]
  },
  {
   "cell_type": "code",
   "execution_count": 56,
   "metadata": {},
   "outputs": [
    {
     "name": "stdout",
     "output_type": "stream",
     "text": [
      "     A    B   C  D\n",
      "0  NaN  2.0 NaN  0\n",
      "1  3.0  4.0 NaN  1\n",
      "2  3.0  4.0 NaN  5\n",
      "3  3.0  3.0 NaN  4\n"
     ]
    }
   ],
   "source": [
    "#propagate non-null values forward (worth 5 points)\n",
    "df_forward_filled = df.fillna(method='ffill')\n",
    "\n",
    "print(df_forward_filled)\n",
    "\n"
   ]
  },
  {
   "cell_type": "code",
   "execution_count": 58,
   "metadata": {},
   "outputs": [
    {
     "name": "stdout",
     "output_type": "stream",
     "text": [
      "     A    B    C  D\n",
      "0  0.0  2.0  0.0  0\n",
      "1  3.0  4.0  NaN  1\n",
      "2  NaN  0.0  NaN  5\n",
      "3  NaN  3.0  NaN  4\n"
     ]
    }
   ],
   "source": [
    "#Only replace the first NaN element with 0 (worth 5 points)\n",
    "df_first_nan_filled = df.fillna(0, limit=1)\n",
    "\n",
    "print(df_first_nan_filled)\n",
    "\n"
   ]
  },
  {
   "cell_type": "code",
   "execution_count": 60,
   "metadata": {},
   "outputs": [
    {
     "name": "stdout",
     "output_type": "stream",
     "text": [
      "     A    B   C  D\n",
      "0  3.0  2.0 NaN  0\n",
      "1  3.0  4.0 NaN  1\n",
      "2  3.0  3.0 NaN  5\n",
      "3  3.0  3.0 NaN  4\n"
     ]
    }
   ],
   "source": [
    "#replace missing values with the column mean (worth 5 points)\n",
    "df_mean_filled = df.apply(lambda x: x.fillna(x.mean()), axis=0)\n",
    "\n",
    "print(df_mean_filled)\n",
    "\n",
    "\n"
   ]
  },
  {
   "cell_type": "markdown",
   "metadata": {},
   "source": [
    "**Exercise 7:Dropna (worth 15 points)**"
   ]
  },
  {
   "cell_type": "code",
   "execution_count": 66,
   "metadata": {},
   "outputs": [
    {
     "name": "stdout",
     "output_type": "stream",
     "text": [
      "     A    B    C  D\n",
      "0  NaN  2.0  NaN  0\n",
      "1  3.0  4.0  NaN  1\n",
      "2  NaN  NaN  NaN  5\n",
      "3  3.0  4.0  NaN  1\n",
      "4  3.0  4.0  0.0  1\n"
     ]
    }
   ],
   "source": [
    "#following steps (worth 5 points)\n",
    "#import required libraries\n",
    "import numpy as np\n",
    "import pandas as pd\n",
    "\n",
    "\n",
    "#create a dataframe df\n",
    "df = pd.DataFrame([[np.nan, 2, np.nan, 0], [3, 4, np.nan, 1], [np.nan, np.nan, np.nan, 5],[3, 4, np.nan, 1], [3, 4, 0, 1]],\n",
    "                  columns=list('ABCD'))\n",
    "\n",
    "#print dataframe\n",
    "print(df)\n"
   ]
  },
  {
   "cell_type": "code",
   "execution_count": 68,
   "metadata": {},
   "outputs": [
    {
     "name": "stdout",
     "output_type": "stream",
     "text": [
      "     A    B    C  D\n",
      "0  NaN  2.0  NaN  0\n",
      "1  3.0  4.0  NaN  1\n",
      "2  NaN  NaN  NaN  5\n",
      "3  3.0  4.0  NaN  1\n",
      "4  3.0  4.0  0.0  1\n"
     ]
    }
   ],
   "source": [
    "#remve all column where all value is 'NaN' exists (worth 5 points)\n",
    "df_cleaned = df.dropna(axis=1, how='all')\n",
    "\n",
    "print(df_cleaned)\n",
    "\n"
   ]
  },
  {
   "cell_type": "code",
   "execution_count": 70,
   "metadata": {},
   "outputs": [
    {
     "name": "stdout",
     "output_type": "stream",
     "text": [
      "     A    B  D\n",
      "0  NaN  2.0  0\n",
      "1  3.0  4.0  1\n",
      "2  NaN  NaN  5\n",
      "3  3.0  4.0  1\n",
      "4  3.0  4.0  1\n"
     ]
    }
   ],
   "source": [
    "#remve all column if there is non-'NaN' value is less than 2 (worth 5 points)\n",
    "df_filtered = df.dropna(axis=1, thresh=2)\n",
    "\n",
    "print(df_filtered)\n",
    "\n"
   ]
  },
  {
   "cell_type": "markdown",
   "metadata": {},
   "source": [
    "**Exericse 8:Replacing values (worth 5 points)**"
   ]
  },
  {
   "cell_type": "code",
   "execution_count": 19,
   "metadata": {},
   "outputs": [
    {
     "data": {
      "text/plain": [
       "0       1.0\n",
       "1     100.0\n",
       "2       2.0\n",
       "3     100.0\n",
       "4   -1000.0\n",
       "5       3.0\n",
       "dtype: float64"
      ]
     },
     "execution_count": 19,
     "metadata": {},
     "output_type": "execute_result"
    }
   ],
   "source": [
    "#consider the following \n",
    "data = pd.Series([1., 100., 2.,100., -1000., 3.])\n",
    "data"
   ]
  },
  {
   "cell_type": "code",
   "execution_count": 72,
   "metadata": {},
   "outputs": [
    {
     "name": "stdout",
     "output_type": "stream",
     "text": [
      "0       1.0\n",
      "1       NaN\n",
      "2       2.0\n",
      "3       NaN\n",
      "4   -1000.0\n",
      "5       3.0\n",
      "dtype: float64\n"
     ]
    }
   ],
   "source": [
    "#replace all 100. by nan (worth 5 points)\n",
    "import pandas as pd\n",
    "import numpy as np\n",
    "\n",
    "data = pd.Series([1., 100., 2., 100., -1000., 3.])\n",
    "\n",
    "data_replaced = data.replace(100., np.nan)\n",
    "\n",
    "print(data_replaced)\n",
    "\n",
    "\n"
   ]
  },
  {
   "cell_type": "code",
   "execution_count": null,
   "metadata": {},
   "outputs": [],
   "source": []
  }
 ],
 "metadata": {
  "kernelspec": {
   "display_name": "Python 3 (ipykernel)",
   "language": "python",
   "name": "python3"
  },
  "language_info": {
   "codemirror_mode": {
    "name": "ipython",
    "version": 3
   },
   "file_extension": ".py",
   "mimetype": "text/x-python",
   "name": "python",
   "nbconvert_exporter": "python",
   "pygments_lexer": "ipython3",
   "version": "3.11.7"
  }
 },
 "nbformat": 4,
 "nbformat_minor": 4
}
